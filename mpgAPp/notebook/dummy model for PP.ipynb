{
 "cells": [
  {
   "cell_type": "code",
   "execution_count": 18,
   "metadata": {},
   "outputs": [],
   "source": [
    "import pandas as pd\n",
    "import numpy as np\n",
    "from sklearn import pipeline,preprocessing,metrics,model_selection,ensemble\n",
    "from sklearn_pandas import DataFrameMapper\n",
    "from sklearn.ensemble import RandomForestRegressor\n",
    "\n",
    "from sklearn.model_selection import train_test_split\n",
    "from sklearn.linear_model import LinearRegression\n",
    "from sklearn.preprocessing import LabelEncoder,OneHotEncoder\n",
    "import statsmodels.formula.api as sm\n"
   ]
  },
  {
   "cell_type": "code",
   "execution_count": 19,
   "metadata": {},
   "outputs": [
    {
     "data": {
      "text/html": [
       "<div>\n",
       "<style scoped>\n",
       "    .dataframe tbody tr th:only-of-type {\n",
       "        vertical-align: middle;\n",
       "    }\n",
       "\n",
       "    .dataframe tbody tr th {\n",
       "        vertical-align: top;\n",
       "    }\n",
       "\n",
       "    .dataframe thead th {\n",
       "        text-align: right;\n",
       "    }\n",
       "</style>\n",
       "<table border=\"1\" class=\"dataframe\">\n",
       "  <thead>\n",
       "    <tr style=\"text-align: right;\">\n",
       "      <th></th>\n",
       "      <th>Quants</th>\n",
       "      <th>LogicalReasoning</th>\n",
       "      <th>Programming</th>\n",
       "      <th>CGPA</th>\n",
       "      <th>Communication</th>\n",
       "      <th>Hiring_Prediction</th>\n",
       "    </tr>\n",
       "  </thead>\n",
       "  <tbody>\n",
       "    <tr>\n",
       "      <th>0</th>\n",
       "      <td>11</td>\n",
       "      <td>11</td>\n",
       "      <td>11</td>\n",
       "      <td>10.00</td>\n",
       "      <td>9</td>\n",
       "      <td>92.00</td>\n",
       "    </tr>\n",
       "    <tr>\n",
       "      <th>1</th>\n",
       "      <td>8</td>\n",
       "      <td>10</td>\n",
       "      <td>14</td>\n",
       "      <td>8.80</td>\n",
       "      <td>10</td>\n",
       "      <td>90.80</td>\n",
       "    </tr>\n",
       "    <tr>\n",
       "      <th>2</th>\n",
       "      <td>11</td>\n",
       "      <td>11</td>\n",
       "      <td>8</td>\n",
       "      <td>9.63</td>\n",
       "      <td>9</td>\n",
       "      <td>88.63</td>\n",
       "    </tr>\n",
       "    <tr>\n",
       "      <th>3</th>\n",
       "      <td>14</td>\n",
       "      <td>13</td>\n",
       "      <td>8</td>\n",
       "      <td>6.55</td>\n",
       "      <td>7</td>\n",
       "      <td>88.55</td>\n",
       "    </tr>\n",
       "    <tr>\n",
       "      <th>4</th>\n",
       "      <td>10</td>\n",
       "      <td>7</td>\n",
       "      <td>10</td>\n",
       "      <td>7.27</td>\n",
       "      <td>6</td>\n",
       "      <td>80.27</td>\n",
       "    </tr>\n",
       "  </tbody>\n",
       "</table>\n",
       "</div>"
      ],
      "text/plain": [
       "   Quants  LogicalReasoning  Programming   CGPA  Communication  \\\n",
       "0      11                11           11  10.00              9   \n",
       "1       8                10           14   8.80             10   \n",
       "2      11                11            8   9.63              9   \n",
       "3      14                13            8   6.55              7   \n",
       "4      10                 7           10   7.27              6   \n",
       "\n",
       "   Hiring_Prediction  \n",
       "0              92.00  \n",
       "1              90.80  \n",
       "2              88.63  \n",
       "3              88.55  \n",
       "4              80.27  "
      ]
     },
     "execution_count": 19,
     "metadata": {},
     "output_type": "execute_result"
    }
   ],
   "source": [
    "data = pd.read_csv('DeploymentFinalPlacement1.csv')\n",
    "data.head()"
   ]
  },
  {
   "cell_type": "code",
   "execution_count": 20,
   "metadata": {},
   "outputs": [
    {
     "data": {
      "text/plain": [
       "Quants               0\n",
       "LogicalReasoning     0\n",
       "Programming          0\n",
       "CGPA                 0\n",
       "Communication        0\n",
       "Hiring_Prediction    0\n",
       "dtype: int64"
      ]
     },
     "execution_count": 20,
     "metadata": {},
     "output_type": "execute_result"
    }
   ],
   "source": [
    "data.isnull().sum()"
   ]
  },
  {
   "cell_type": "code",
   "execution_count": 27,
   "metadata": {},
   "outputs": [
    {
     "name": "stderr",
     "output_type": "stream",
     "text": [
      "C:\\Users\\123\\Anaconda3\\lib\\site-packages\\sklearn\\utils\\deprecation.py:66: DeprecationWarning: Class Imputer is deprecated; Imputer was deprecated in version 0.20 and will be removed in 0.22. Import impute.SimpleImputer from sklearn instead.\n",
      "  warnings.warn(msg, category=DeprecationWarning)\n"
     ]
    }
   ],
   "source": [
    "mapper = DataFrameMapper([\n",
    "                        (['Quants','LogicalReasoning','Programming'], preprocessing.StandardScaler()),\n",
    "                        (['CGPA'],preprocessing.Imputer()),\n",
    "                        (['Communication'], preprocessing.OneHotEncoder())\n",
    "                        ])"
   ]
  },
  {
   "cell_type": "code",
   "execution_count": 28,
   "metadata": {},
   "outputs": [],
   "source": [
    "pipeline_obj = pipeline.Pipeline([\n",
    "    ('mapper',mapper),\n",
    "    (\"model\", ensemble.RandomForestRegressor())\n",
    "])"
   ]
  },
  {
   "cell_type": "code",
   "execution_count": 29,
   "metadata": {},
   "outputs": [
    {
     "data": {
      "text/plain": [
       "Index(['Quants', 'LogicalReasoning', 'Programming', 'CGPA', 'Communication',\n",
       "       'Hiring_Prediction'],\n",
       "      dtype='object')"
      ]
     },
     "execution_count": 29,
     "metadata": {},
     "output_type": "execute_result"
    }
   ],
   "source": [
    "data.columns"
   ]
  },
  {
   "cell_type": "code",
   "execution_count": 30,
   "metadata": {},
   "outputs": [],
   "source": [
    "X=['Quants', 'LogicalReasoning', 'Programming', 'CGPA','Communication']\n",
    "Y=['Hiring_Prediction']"
   ]
  },
  {
   "cell_type": "code",
   "execution_count": 31,
   "metadata": {},
   "outputs": [
    {
     "name": "stderr",
     "output_type": "stream",
     "text": [
      "C:\\Users\\123\\Anaconda3\\lib\\site-packages\\sklearn\\preprocessing\\_encoders.py:415: FutureWarning: The handling of integer data will change in version 0.22. Currently, the categories are determined based on the range [0, max(values)], while in the future they will be determined based on the unique values.\n",
      "If you want the future behaviour and silence this warning, you can specify \"categories='auto'\".\n",
      "In case you used a LabelEncoder before this OneHotEncoder to convert the categories to integers, then you can now use the OneHotEncoder directly.\n",
      "  warnings.warn(msg, FutureWarning)\n",
      "C:\\Users\\123\\Anaconda3\\lib\\site-packages\\sklearn\\ensemble\\forest.py:245: FutureWarning: The default value of n_estimators will change from 10 in version 0.20 to 100 in 0.22.\n",
      "  \"10 in version 0.20 to 100 in 0.22.\", FutureWarning)\n",
      "C:\\Users\\123\\Anaconda3\\lib\\site-packages\\sklearn\\pipeline.py:356: DataConversionWarning: A column-vector y was passed when a 1d array was expected. Please change the shape of y to (n_samples,), for example using ravel().\n",
      "  self._final_estimator.fit(Xt, y, **fit_params)\n"
     ]
    },
    {
     "data": {
      "text/plain": [
       "Pipeline(memory=None,\n",
       "         steps=[('mapper',\n",
       "                 DataFrameMapper(default=False, df_out=False,\n",
       "                                 features=[(['Quants', 'LogicalReasoning',\n",
       "                                             'Programming'],\n",
       "                                            StandardScaler(copy=True,\n",
       "                                                           with_mean=True,\n",
       "                                                           with_std=True)),\n",
       "                                           (['CGPA'],\n",
       "                                            Imputer(axis=0, copy=True,\n",
       "                                                    missing_values='NaN',\n",
       "                                                    strategy='mean',\n",
       "                                                    verbose=0)),\n",
       "                                           (['Communication'],\n",
       "                                            OneHotEncoder(categorical_features=None,\n",
       "                                                          categories=None...\n",
       "                                 input_df=False, sparse=False)),\n",
       "                ('model',\n",
       "                 RandomForestRegressor(bootstrap=True, criterion='mse',\n",
       "                                       max_depth=None, max_features='auto',\n",
       "                                       max_leaf_nodes=None,\n",
       "                                       min_impurity_decrease=0.0,\n",
       "                                       min_impurity_split=None,\n",
       "                                       min_samples_leaf=1, min_samples_split=2,\n",
       "                                       min_weight_fraction_leaf=0.0,\n",
       "                                       n_estimators=10, n_jobs=None,\n",
       "                                       oob_score=False, random_state=None,\n",
       "                                       verbose=0, warm_start=False))],\n",
       "         verbose=False)"
      ]
     },
     "execution_count": 31,
     "metadata": {},
     "output_type": "execute_result"
    }
   ],
   "source": [
    "pipeline_obj.fit(data[X],data[Y])"
   ]
  },
  {
   "cell_type": "code",
   "execution_count": 32,
   "metadata": {},
   "outputs": [
    {
     "data": {
      "text/plain": [
       "array([92.45 , 90.624, 88.41 , 89.047, 83.441, 85.116, 87.19 , 95.316,\n",
       "       82.878, 89.001, 88.817, 90.453, 94.938, 87.878, 83.319, 77.997,\n",
       "       81.602, 90.692, 85.009, 87.358, 94.324, 90.317, 89.309, 90.426,\n",
       "       86.365, 88.285, 84.074, 91.984, 88.399, 88.734, 86.7  , 92.921,\n",
       "       84.227, 93.311, 88.791, 88.521, 93.39 , 83.453, 77.926, 86.571,\n",
       "       89.711, 85.813, 87.391, 88.442, 94.794, 94.216, 87.118, 96.112,\n",
       "       99.294, 90.661, 28.8  , 32.6  , 35.6  , 36.8  , 38.   , 39.7  ,\n",
       "       34.3  , 37.3  , 38.9  , 39.2  , 39.8  , 35.2  , 36.7  , 38.9  ,\n",
       "       39.5  , 40.   , 39.7  , 36.   , 30.9  , 23.4  ,  4.9  , 12.4  ,\n",
       "       16.7  , 16.8  , 18.   , 96.05 , 96.697, 82.895, 82.433, 91.025,\n",
       "       97.43 , 74.335, 85.735, 87.76 , 94.73 , 82.365, 94.785, 97.795,\n",
       "       82.427, 91.607, 90.38 , 84.843, 84.129, 84.395, 84.833, 86.91 ,\n",
       "       95.536, 93.889, 86.187, 87.763, 91.85 , 97.1  , 91.2  , 87.029,\n",
       "       78.4  , 80.66 , 81.75 , 90.54 ])"
      ]
     },
     "execution_count": 32,
     "metadata": {},
     "output_type": "execute_result"
    }
   ],
   "source": [
    "pipeline_obj.predict(data[X])"
   ]
  },
  {
   "cell_type": "code",
   "execution_count": 33,
   "metadata": {},
   "outputs": [],
   "source": [
    "from sklearn.externals import joblib"
   ]
  },
  {
   "cell_type": "code",
   "execution_count": 34,
   "metadata": {},
   "outputs": [
    {
     "data": {
      "text/plain": [
       "['RFModelforPP.pkl']"
      ]
     },
     "execution_count": 34,
     "metadata": {},
     "output_type": "execute_result"
    }
   ],
   "source": [
    "joblib.dump(pipeline_obj,'RFModelforPP.pkl')"
   ]
  },
  {
   "cell_type": "code",
   "execution_count": 35,
   "metadata": {},
   "outputs": [],
   "source": [
    "modelReload=joblib.load('RFModelforPP.pkl')"
   ]
  },
  {
   "cell_type": "code",
   "execution_count": 36,
   "metadata": {},
   "outputs": [
    {
     "data": {
      "text/plain": [
       "array([92.45 , 90.624, 88.41 , 89.047, 83.441, 85.116, 87.19 , 95.316,\n",
       "       82.878, 89.001, 88.817, 90.453, 94.938, 87.878, 83.319, 77.997,\n",
       "       81.602, 90.692, 85.009, 87.358, 94.324, 90.317, 89.309, 90.426,\n",
       "       86.365, 88.285, 84.074, 91.984, 88.399, 88.734, 86.7  , 92.921,\n",
       "       84.227, 93.311, 88.791, 88.521, 93.39 , 83.453, 77.926, 86.571,\n",
       "       89.711, 85.813, 87.391, 88.442, 94.794, 94.216, 87.118, 96.112,\n",
       "       99.294, 90.661, 28.8  , 32.6  , 35.6  , 36.8  , 38.   , 39.7  ,\n",
       "       34.3  , 37.3  , 38.9  , 39.2  , 39.8  , 35.2  , 36.7  , 38.9  ,\n",
       "       39.5  , 40.   , 39.7  , 36.   , 30.9  , 23.4  ,  4.9  , 12.4  ,\n",
       "       16.7  , 16.8  , 18.   , 96.05 , 96.697, 82.895, 82.433, 91.025,\n",
       "       97.43 , 74.335, 85.735, 87.76 , 94.73 , 82.365, 94.785, 97.795,\n",
       "       82.427, 91.607, 90.38 , 84.843, 84.129, 84.395, 84.833, 86.91 ,\n",
       "       95.536, 93.889, 86.187, 87.763, 91.85 , 97.1  , 91.2  , 87.029,\n",
       "       78.4  , 80.66 , 81.75 , 90.54 ])"
      ]
     },
     "execution_count": 36,
     "metadata": {},
     "output_type": "execute_result"
    }
   ],
   "source": [
    "modelReload.predict(data[X])"
   ]
  },
  {
   "cell_type": "code",
   "execution_count": 41,
   "metadata": {},
   "outputs": [],
   "source": [
    "temp={}\n",
    "temp['Quants']=0\n",
    "temp['LogicalReasoning']=0\n",
    "temp['Programming']=0\n",
    "temp['CGPA']=0\n",
    "temp['Communication']=0"
   ]
  },
  {
   "cell_type": "code",
   "execution_count": 42,
   "metadata": {},
   "outputs": [],
   "source": [
    "testDtaa=pd.DataFrame({'x':temp}).transpose()"
   ]
  },
  {
   "cell_type": "code",
   "execution_count": 43,
   "metadata": {},
   "outputs": [
    {
     "data": {
      "text/html": [
       "<div>\n",
       "<style scoped>\n",
       "    .dataframe tbody tr th:only-of-type {\n",
       "        vertical-align: middle;\n",
       "    }\n",
       "\n",
       "    .dataframe tbody tr th {\n",
       "        vertical-align: top;\n",
       "    }\n",
       "\n",
       "    .dataframe thead th {\n",
       "        text-align: right;\n",
       "    }\n",
       "</style>\n",
       "<table border=\"1\" class=\"dataframe\">\n",
       "  <thead>\n",
       "    <tr style=\"text-align: right;\">\n",
       "      <th></th>\n",
       "      <th>CGPA</th>\n",
       "      <th>Communication</th>\n",
       "      <th>LogicalReasoning</th>\n",
       "      <th>Programming</th>\n",
       "      <th>Quants</th>\n",
       "    </tr>\n",
       "  </thead>\n",
       "  <tbody>\n",
       "    <tr>\n",
       "      <th>x</th>\n",
       "      <td>0</td>\n",
       "      <td>0</td>\n",
       "      <td>0</td>\n",
       "      <td>0</td>\n",
       "      <td>0</td>\n",
       "    </tr>\n",
       "  </tbody>\n",
       "</table>\n",
       "</div>"
      ],
      "text/plain": [
       "   CGPA  Communication  LogicalReasoning  Programming  Quants\n",
       "x     0              0                 0            0       0"
      ]
     },
     "execution_count": 43,
     "metadata": {},
     "output_type": "execute_result"
    }
   ],
   "source": [
    "testDtaa"
   ]
  },
  {
   "cell_type": "code",
   "execution_count": 44,
   "metadata": {},
   "outputs": [
    {
     "data": {
      "text/plain": [
       "4.9"
      ]
     },
     "execution_count": 44,
     "metadata": {},
     "output_type": "execute_result"
    }
   ],
   "source": [
    "modelReload.predict(testDtaa)[0]"
   ]
  },
  {
   "cell_type": "code",
   "execution_count": null,
   "metadata": {},
   "outputs": [],
   "source": []
  }
 ],
 "metadata": {
  "kernelspec": {
   "display_name": "Python 3",
   "language": "python",
   "name": "python3"
  },
  "language_info": {
   "codemirror_mode": {
    "name": "ipython",
    "version": 3
   },
   "file_extension": ".py",
   "mimetype": "text/x-python",
   "name": "python",
   "nbconvert_exporter": "python",
   "pygments_lexer": "ipython3",
   "version": "3.7.7"
  }
 },
 "nbformat": 4,
 "nbformat_minor": 4
}
